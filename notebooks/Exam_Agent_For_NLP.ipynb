{
  "cells": [
    {
      "cell_type": "markdown",
      "id": "98f5e36a-da49-4ae2-8c74-b910a2f992fc",
      "metadata": {
        "id": "98f5e36a-da49-4ae2-8c74-b910a2f992fc"
      },
      "source": [
        "# Agent\n",
        "\n",
        "In this notebook, **we're going to build a simple agent using using LangGraph**.\n",
        "\n",
        "This notebook is part of the <a href=\"https://www.hf.co/learn/agents-course\">Hugging Face Agents Course</a>, a free course from beginner to expert, where you learn to build Agents.\n",
        "\n",
        "![Agents course share](https://huggingface.co/datasets/agents-course/course-images/resolve/main/en/communication/share.png)\n",
        "\n",
        "As seen in the Unit 1, an agent needs 3 steps as introduced in the ReAct architecture :\n",
        "[ReAct](https://react-lm.github.io/), a general agent architecture.\n",
        "  \n",
        "* `act` - let the model call specific tools\n",
        "* `observe` - pass the tool output back to the model\n",
        "* `reason` - let the model reason about the tool output to decide what to do next (e.g., call another tool or just respond directly)\n",
        "\n",
        "\n",
        "![Agent](https://huggingface.co/datasets/agents-course/course-images/resolve/main/en/unit2/LangGraph/Agent.png)"
      ]
    },
    {
      "cell_type": "code",
      "execution_count": 20,
      "id": "50ea0abd",
      "metadata": {},
      "outputs": [
        {
          "name": "stdout",
          "output_type": "stream",
          "text": [
            "The autoreload extension is already loaded. To reload it, use:\n",
            "  %reload_ext autoreload\n"
          ]
        }
      ],
      "source": [
        "# restart the kernel if you use pip to install new packages.\n",
        "%load_ext autoreload\n",
        "%autoreload 2"
      ]
    },
    {
      "cell_type": "code",
      "execution_count": 21,
      "id": "356a6482",
      "metadata": {
        "id": "356a6482",
        "tags": []
      },
      "outputs": [],
      "source": [
        "\n",
        "import os\n",
        "\n",
        "# Please setp your own key.\n",
        "os.environ[\"OPENAI_API_KEY\"]=\"\""
      ]
    },
    {
      "cell_type": "code",
      "execution_count": 34,
      "id": "71795ff1-d6a7-448d-8b55-88bbd1ed3dbe",
      "metadata": {
        "id": "71795ff1-d6a7-448d-8b55-88bbd1ed3dbe",
        "tags": []
      },
      "outputs": [],
      "source": [
        "import base64\n",
        "from typing import List\n",
        "from langchain.schema import HumanMessage\n",
        "from langchain_openai import ChatOpenAI\n",
        "\n",
        "vision_llm = ChatOpenAI(model=\"gpt-4o\")\n",
        "\n",
        "def extract_text(img_path: str) -> str:\n",
        "    \"\"\"\n",
        "    Extract text from an image file using a multimodal model.\n",
        "\n",
        "    Master Wayne often leaves notes with his training regimen or meal plans.\n",
        "    This allows me to properly analyze the contents.\n",
        "    \"\"\"\n",
        "    all_text = \"\"\n",
        "    try:\n",
        "        # Read image and encode as base64\n",
        "        with open(img_path, \"rb\") as image_file:\n",
        "            image_bytes = image_file.read()\n",
        "\n",
        "        image_base64 = base64.b64encode(image_bytes).decode(\"utf-8\")\n",
        "\n",
        "        # Prepare the prompt including the base64 image data\n",
        "        message = [\n",
        "            HumanMessage(\n",
        "                content=[\n",
        "                    {\n",
        "                        \"type\": \"text\",\n",
        "                        \"text\": (\n",
        "                            \"Extract all the text from this image. \"\n",
        "                            \"Return only the extracted text, no explanations.\"\n",
        "                        ),\n",
        "                    },\n",
        "                    {\n",
        "                        \"type\": \"image_url\",\n",
        "                        \"image_url\": {\n",
        "                            \"url\": f\"data:image/png;base64,{image_base64}\"\n",
        "                        },\n",
        "                    },\n",
        "                ]\n",
        "            )\n",
        "        ]\n",
        "\n",
        "        # Call the vision-capable model\n",
        "        response = vision_llm.invoke(message)\n",
        "\n",
        "        # Append extracted text\n",
        "        all_text += response.content + \"\\n\\n\"\n",
        "\n",
        "        return all_text.strip()\n",
        "    except Exception as e:\n",
        "        # A butler should handle errors gracefully\n",
        "        error_msg = f\"Error extracting text: {str(e)}\"\n",
        "        print(error_msg)\n",
        "        return \"\"\n",
        "\n",
        "\n",
        "llm = ChatOpenAI(model=\"gpt-3.5-turbo\")\n",
        "\n",
        "def multiply(a: float, b: float) -> float:\n",
        "    \"\"\"Divide a and b.\"\"\"\n",
        "    return a * b\n",
        "\n",
        "def divide(a: float, b: float) -> float:\n",
        "    \"\"\"Divide a and b.\"\"\"\n",
        "    return a / b\n",
        "\n",
        "def count_occurrences(text: str, phrase: str) -> int:\n",
        "    \"\"\"Count the number of occurrences of a phrase in a text.\"\"\"\n",
        "    return text.count(phrase)\n",
        "\n",
        "def bigram_condition_prob_in_corpus(corpus: str, preword: str, word: str) -> float:\n",
        "    \"\"\"Count the conditional probability of a word given a preword in a corpus.\"\"\"\n",
        "    raise NotImplementedError(\"Not implemented yet\")\n",
        "\n",
        "def bigram_prob(text: str, phrase: str) -> float:\n",
        "    \"\"\"Count the bigram prob without smooth.\"\"\"\n",
        "    raise NotImplementedError(\"Not implemented yet\")\n",
        "\n",
        "def bigram_prob_smooth(text: str, phrase: str) -> float:\n",
        "    \"\"\"Count the bigram prob with smooth.\"\"\"\n",
        "    raise NotImplementedError(\"Not implemented yet\")\n",
        "\n",
        "tools = [\n",
        "    extract_text,\n",
        "    count_occurrences,\n",
        "    # bigram_prob,\n",
        "    # bigram_condition_prob_in_corpus,\n",
        "    # bigram_prob_smooth,\n",
        "    divide,\n",
        "    multiply\n",
        "]\n",
        "llm_with_tools = llm.bind_tools(tools, parallel_tool_calls=False)"
      ]
    },
    {
      "cell_type": "markdown",
      "id": "a2cec014-3023-405c-be79-de8fc7adb346",
      "metadata": {
        "id": "a2cec014-3023-405c-be79-de8fc7adb346"
      },
      "source": [
        "Let's create our LLM and prompt it with the overall desired agent behavior."
      ]
    },
    {
      "cell_type": "code",
      "execution_count": 23,
      "id": "deb674bc-49b2-485a-b0c3-4d7b05a0bfac",
      "metadata": {
        "id": "deb674bc-49b2-485a-b0c3-4d7b05a0bfac",
        "tags": []
      },
      "outputs": [],
      "source": [
        "from typing import TypedDict, Annotated, List, Any, Optional\n",
        "from langchain_core.messages import AnyMessage\n",
        "from langgraph.graph.message import add_messages\n",
        "class AgentState(TypedDict):\n",
        "    # The input document\n",
        "    input_file:  Optional[str]  # Contains file path, type (PNG)\n",
        "    messages: Annotated[list[AnyMessage], add_messages]"
      ]
    },
    {
      "cell_type": "code",
      "execution_count": 25,
      "id": "d061813f-ebc0-432c-91ec-3b42b15c30b6",
      "metadata": {
        "id": "d061813f-ebc0-432c-91ec-3b42b15c30b6",
        "tags": []
      },
      "outputs": [],
      "source": [
        "from langchain_core.messages import HumanMessage, SystemMessage\n",
        "from langchain_core.utils.function_calling import convert_to_openai_tool\n",
        "\n",
        "\n",
        "# AgentState\n",
        "def assistant(state: AgentState):\n",
        "    # System message\n",
        "    textual_description_of_tool=\"\"\"\n",
        "extract_text(img_path: str) -> str:\n",
        "    Extract text from an image file using a multimodal model.\n",
        "\n",
        "    Args:\n",
        "        img_path: A local image file path (strings).\n",
        "\n",
        "    Returns:\n",
        "        A single string containing the concatenated text extracted from each image.\n",
        "\"\"\"\n",
        "    image=state[\"input_file\"]\n",
        "    sys_msg = SystemMessage(content=f\"You are an helpful agent that can analyse some images and run some ngram analysis and computing without provided tools :\\n{textual_description_of_tool} \\n You have access to some otpional images. Currently the loaded images is : {image}\")\n",
        "\n",
        "\n",
        "    return {\"messages\": [llm_with_tools.invoke([sys_msg] + state[\"messages\"])],\"input_file\":state[\"input_file\"]}"
      ]
    },
    {
      "cell_type": "markdown",
      "id": "4eb43343-9a6f-42cb-86e6-4380f928633c",
      "metadata": {
        "id": "4eb43343-9a6f-42cb-86e6-4380f928633c"
      },
      "source": [
        "We define a `Tools` node with our list of tools.\n",
        "\n",
        "The `Assistant` node is just our model with bound tools.\n",
        "\n",
        "We create a graph with `Assistant` and `Tools` nodes.\n",
        "\n",
        "We add `tools_condition` edge, which routes to `End` or to `Tools` based on  whether the `Assistant` calls a tool.\n",
        "\n",
        "Now, we add one new step:\n",
        "\n",
        "We connect the `Tools` node *back* to the `Assistant`, forming a loop.\n",
        "\n",
        "* After the `assistant` node executes, `tools_condition` checks if the model's output is a tool call.\n",
        "* If it is a tool call, the flow is directed to the `tools` node.\n",
        "* The `tools` node connects back to `assistant`.\n",
        "* This loop continues as long as the model decides to call tools.\n",
        "* If the model response is not a tool call, the flow is directed to END, terminating the process."
      ]
    },
    {
      "cell_type": "code",
      "execution_count": 26,
      "id": "aef13cd4-05a6-4084-a620-2e7b91d9a72f",
      "metadata": {
        "colab": {
          "base_uri": "https://localhost:8080/",
          "height": 266
        },
        "id": "aef13cd4-05a6-4084-a620-2e7b91d9a72f",
        "outputId": "0cd2cfc8-600b-408a-b825-c5928f16a8c5",
        "tags": []
      },
      "outputs": [
        {
          "data": {
            "image/png": "[encoded data removed]",
            "text/plain": [
              "<IPython.core.display.Image object>"
            ]
          },
          "metadata": {},
          "output_type": "display_data"
        }
      ],
      "source": [
        "from langgraph.graph import START, StateGraph\n",
        "from langgraph.prebuilt import tools_condition\n",
        "from langgraph.prebuilt import ToolNode\n",
        "from IPython.display import Image, display\n",
        "\n",
        "# Graph\n",
        "builder = StateGraph(AgentState)\n",
        "\n",
        "# Define nodes: these do the work\n",
        "builder.add_node(\"assistant\", assistant)\n",
        "builder.add_node(\"tools\", ToolNode(tools))\n",
        "\n",
        "# Define edges: these determine how the control flow moves\n",
        "builder.add_edge(START, \"assistant\")\n",
        "builder.add_conditional_edges(\n",
        "    \"assistant\",\n",
        "    # If the latest message (result) from assistant is a tool call -> tools_condition routes to tools\n",
        "    # If the latest message (result) from assistant is a not a tool call -> tools_condition routes to END\n",
        "    tools_condition,\n",
        ")\n",
        "builder.add_edge(\"tools\", \"assistant\")\n",
        "react_graph = builder.compile()\n",
        "\n",
        "# Show\n",
        "display(Image(react_graph.get_graph(xray=True).draw_mermaid_png()))"
      ]
    },
    {
      "cell_type": "code",
      "execution_count": 27,
      "id": "75602459-d8ca-47b4-9518-3f38343ebfe4",
      "metadata": {
        "id": "75602459-d8ca-47b4-9518-3f38343ebfe4",
        "tags": []
      },
      "outputs": [],
      "source": [
        "messages = [HumanMessage(content=\"Multipy 6790 by 5\")]\n",
        "\n",
        "messages = react_graph.invoke({\"messages\": messages,\"input_file\":None})"
      ]
    },
    {
      "cell_type": "code",
      "execution_count": 28,
      "id": "b517142d-c40c-48bf-a5b8-c8409427aa79",
      "metadata": {
        "colab": {
          "base_uri": "https://localhost:8080/"
        },
        "id": "b517142d-c40c-48bf-a5b8-c8409427aa79",
        "outputId": "7f7fa22d-5f79-4d61-cf25-02a28b2aa4cf",
        "tags": []
      },
      "outputs": [
        {
          "name": "stdout",
          "output_type": "stream",
          "text": [
            "================================\u001b[1m Human Message \u001b[0m=================================\n",
            "\n",
            "Multipy 6790 by 5\n",
            "==================================\u001b[1m Ai Message \u001b[0m==================================\n",
            "Tool Calls:\n",
            "  multiply (call_E6P0TxuEIFouK4n6dxIW8OWH)\n",
            " Call ID: call_E6P0TxuEIFouK4n6dxIW8OWH\n",
            "  Args:\n",
            "    a: 6790\n",
            "    b: 5\n",
            "=================================\u001b[1m Tool Message \u001b[0m=================================\n",
            "Name: multiply\n",
            "\n",
            "33950.0\n",
            "==================================\u001b[1m Ai Message \u001b[0m==================================\n",
            "\n",
            "The result of multiplying 6790 by 5 is 33950.\n"
          ]
        }
      ],
      "source": [
        "for m in messages['messages']:\n",
        "    m.pretty_print()"
      ]
    },
    {
      "cell_type": "code",
      "execution_count": 37,
      "id": "b96c8456-4093-4cd6-bc5a-f611967ab709",
      "metadata": {
        "id": "b96c8456-4093-4cd6-bc5a-f611967ab709"
      },
      "outputs": [],
      "source": [
        "messages = [HumanMessage(content=\"According to the screenshot of the exam, solve the ngram questions steps by steps\")]\n",
        "messages = react_graph.invoke({\"messages\": messages, \"input_file\": \"../data/nlp-exam-q3-q4.png\"})"
      ]
    },
    {
      "cell_type": "code",
      "execution_count": 38,
      "id": "k0Kv-UKbk2lL",
      "metadata": {
        "colab": {
          "base_uri": "https://localhost:8080/"
        },
        "id": "k0Kv-UKbk2lL",
        "outputId": "fb34ada7-e159-4ea0-c07a-987bba4783c0"
      },
      "outputs": [
        {
          "name": "stdout",
          "output_type": "stream",
          "text": [
            "================================\u001b[1m Human Message \u001b[0m=================================\n",
            "\n",
            "According to the screenshot of the exam, solve the ngram questions steps by steps\n",
            "==================================\u001b[1m Ai Message \u001b[0m==================================\n",
            "Tool Calls:\n",
            "  extract_text (call_DrDTR44C4jy6P0yJg5nWxGR6)\n",
            " Call ID: call_DrDTR44C4jy6P0yJg5nWxGR6\n",
            "  Args:\n",
            "    img_path: ../data/nlp-exam-q3-q4.png\n",
            "=================================\u001b[1m Tool Message \u001b[0m=================================\n",
            "Name: extract_text\n",
            "\n",
            "N-Gram Language Models (15’)\n",
            "\n",
            "```\n",
            "<s> some are fast </s>\n",
            "<s> and some are slow </s>\n",
            "<s> some are high </s>\n",
            "<s> and some are low </s>\n",
            "```\n",
            "\n",
            "Treat <s> and </s> as regular tokens (i.e., include them in the vocabulary and counts).\n",
            "\n",
            "3. (5’) Using the corpus given above, what is the conditional probability of seeing \"some\" having just seen the word \"and\" (i.e., P(some | and).) Assume a bigram approach and no smoothing.\n",
            "\n",
            "4. (10’) Given the earlier corpus, and a bigram language model (with add-1 smoothing) what is the probability that will be assigned to the following sentence? Give your answer in detailed steps with fractions, no worries for the final numerical result.\n",
            "```\n",
            "<s> some are good </s>\n",
            "```\n",
            "==================================\u001b[1m Ai Message \u001b[0m==================================\n",
            "Tool Calls:\n",
            "  count_occurrences (call_HQl7J6PsmWsg0TGpClUHq5LN)\n",
            " Call ID: call_HQl7J6PsmWsg0TGpClUHq5LN\n",
            "  Args:\n",
            "    text: <s> some are fast </s> <s> and some are slow </s> <s> some are high </s> <s> and some are low </s>\n",
            "    phrase: and\n",
            "=================================\u001b[1m Tool Message \u001b[0m=================================\n",
            "Name: count_occurrences\n",
            "\n",
            "2\n",
            "==================================\u001b[1m Ai Message \u001b[0m==================================\n",
            "Tool Calls:\n",
            "  count_occurrences (call_qitu3JCizhWmWnR1jNJfVpw8)\n",
            " Call ID: call_qitu3JCizhWmWnR1jNJfVpw8\n",
            "  Args:\n",
            "    text: <s> some are fast </s> <s> and some are slow </s> <s> some are high </s> <s> and some are low </s>\n",
            "    phrase: and some\n",
            "=================================\u001b[1m Tool Message \u001b[0m=================================\n",
            "Name: count_occurrences\n",
            "\n",
            "2\n",
            "==================================\u001b[1m Ai Message \u001b[0m==================================\n",
            "Tool Calls:\n",
            "  count_occurrences (call_Trol9OQTk1Pz1wZgCVBhjMAo)\n",
            " Call ID: call_Trol9OQTk1Pz1wZgCVBhjMAo\n",
            "  Args:\n",
            "    text: <s> some are fast </s> <s> and some are slow </s> <s> some are high </s> <s> and some are low </s>\n",
            "    phrase: and some are\n",
            "=================================\u001b[1m Tool Message \u001b[0m=================================\n",
            "Name: count_occurrences\n",
            "\n",
            "2\n",
            "==================================\u001b[1m Ai Message \u001b[0m==================================\n",
            "Tool Calls:\n",
            "  count_occurrences (call_4q77dBpsa0EDsAR5wG6RePxa)\n",
            " Call ID: call_4q77dBpsa0EDsAR5wG6RePxa\n",
            "  Args:\n",
            "    text: <s> some are fast </s> <s> and some are slow </s> <s> some are high </s> <s> and some are low </s>\n",
            "    phrase: and some are low\n",
            "=================================\u001b[1m Tool Message \u001b[0m=================================\n",
            "Name: count_occurrences\n",
            "\n",
            "1\n",
            "==================================\u001b[1m Ai Message \u001b[0m==================================\n",
            "\n",
            "For question 3:\n",
            "- The count of \"and\" in the corpus is 2.\n",
            "- The count of \"and some\" in the corpus is 2.\n",
            "- The count of \"and some are\" in the corpus is 2.\n",
            "- The count of \"and some are low\" in the corpus is 1.\n",
            "\n",
            "Therefore, the conditional probability of seeing \"some\" given that we have just seen the word \"and\" (P(some | and)) is calculated as follows:\n",
            "P(some | and) = Count(\"and some\") / Count(\"and\")\n",
            "               = 2 / 2\n",
            "               = 1\n",
            "\n",
            "For question 4:\n",
            "To calculate the probability of the sentence \"<s> some are good </s>\" using a bigram language model with add-1 smoothing based on the given corpus, we need to calculate the individual probabilities of each bigram in the sentence. We should also consider the tokens \"<s>\" and \"</s>\" as regular tokens in the vocabulary.\n",
            "\n",
            "The sentence \"<s> some are good </s>\" can be broken down into bigrams as follows:\n",
            "- P(some | <s>)\n",
            "- P(are | some)\n",
            "- P(good | are)\n",
            "- P(</s> | good)\n",
            "\n",
            "Each probability will be calculated considering add-1 smoothing and using the counts from the provided corpus. Let's calculate each step by step.\n",
            "Tool Calls:\n",
            "  count_occurrences (call_b4GwNrUzxOfZ835ALK04xO9V)\n",
            " Call ID: call_b4GwNrUzxOfZ835ALK04xO9V\n",
            "  Args:\n",
            "    text: <s> some are fast </s> <s> and some are slow </s> <s> some are high </s> <s> and some are low </s>\n",
            "    phrase: <s> some\n",
            "=================================\u001b[1m Tool Message \u001b[0m=================================\n",
            "Name: count_occurrences\n",
            "\n",
            "2\n",
            "==================================\u001b[1m Ai Message \u001b[0m==================================\n",
            "Tool Calls:\n",
            "  count_occurrences (call_QX7nZQdPhTOnTYMlq6RnGQW9)\n",
            " Call ID: call_QX7nZQdPhTOnTYMlq6RnGQW9\n",
            "  Args:\n",
            "    text: <s> some are fast </s> <s> and some are slow </s> <s> some are high </s> <s> and some are low </s>\n",
            "    phrase: some are\n",
            "=================================\u001b[1m Tool Message \u001b[0m=================================\n",
            "Name: count_occurrences\n",
            "\n",
            "4\n",
            "==================================\u001b[1m Ai Message \u001b[0m==================================\n",
            "Tool Calls:\n",
            "  count_occurrences (call_rdZ7kOSVN5ah8eTZfd9ga2r4)\n",
            " Call ID: call_rdZ7kOSVN5ah8eTZfd9ga2r4\n",
            "  Args:\n",
            "    text: <s> some are fast </s> <s> and some are slow </s> <s> some are high </s> <s> and some are low </s>\n",
            "    phrase: are good\n",
            "=================================\u001b[1m Tool Message \u001b[0m=================================\n",
            "Name: count_occurrences\n",
            "\n",
            "0\n",
            "==================================\u001b[1m Ai Message \u001b[0m==================================\n",
            "Tool Calls:\n",
            "  count_occurrences (call_03v21jL5eOwJotzk2xEkxWdv)\n",
            " Call ID: call_03v21jL5eOwJotzk2xEkxWdv\n",
            "  Args:\n",
            "    text: <s> some are fast </s> <s> and some are slow </s> <s> some are high </s> <s> and some are low </s>\n",
            "    phrase: are good </s>\n",
            "=================================\u001b[1m Tool Message \u001b[0m=================================\n",
            "Name: count_occurrences\n",
            "\n",
            "0\n",
            "==================================\u001b[1m Ai Message \u001b[0m==================================\n",
            "Tool Calls:\n",
            "  count_occurrences (call_5gdR13fCq1hZ5syCMaFAVT8T)\n",
            " Call ID: call_5gdR13fCq1hZ5syCMaFAVT8T\n",
            "  Args:\n",
            "    text: <s> some are fast </s> <s> and some are slow </s> <s> some are high </s> <s> and some are low </s>\n",
            "    phrase: good </s>\n",
            "=================================\u001b[1m Tool Message \u001b[0m=================================\n",
            "Name: count_occurrences\n",
            "\n",
            "0\n",
            "==================================\u001b[1m Ai Message \u001b[0m==================================\n",
            "\n",
            "The calculations of probabilities for the sentence \"<s> some are good </s>\" using a bigram language model with add-1 smoothing are as follows:\n",
            "\n",
            "1. P(some | <s>) = Count(<s> some) / Count(<s>) = 2 / 4\n",
            "2. P(are | some) = Count(some are) / Count(some) = 4 / 7\n",
            "3. P(good | are) = Count(are good) / Count(are) = 0 / 4 (Add-1 smoothing required, assuming 1 for unseen bigrams)\n",
            "4. P(</s> | good) = Count(good </s>) / Count(good) = 0 / 1 (Add-1 smoothing required, assuming 1 for unseen bigrams)\n",
            "\n",
            "Therefore, the probabilities calculated are:\n",
            "1. P(some | <s>) = 2 / 4\n",
            "2. P(are | some) = 4 / 7\n",
            "3. P(good | are) = 1 / 5 (after add-1 smoothing)\n",
            "4. P(</s> | good) = 1 / 2 (after add-1 smoothing) \n",
            "\n",
            "These are the detailed steps for calculating the probabilities for the specified bigrams in the sentence \"<s> some are good </s>\" using a bigram language model with add-1 smoothing.\n"
          ]
        }
      ],
      "source": [
        "for m in messages['messages']:\n",
        "    m.pretty_print()"
      ]
    }
  ],
  "metadata": {
    "colab": {
      "provenance": []
    },
    "kernelspec": {
      "display_name": "cs5293-3",
      "language": "python",
      "name": "python3"
    },
    "language_info": {
      "codemirror_mode": {
        "name": "ipython",
        "version": 3
      },
      "file_extension": ".py",
      "mimetype": "text/x-python",
      "name": "python",
      "nbconvert_exporter": "python",
      "pygments_lexer": "ipython3",
      "version": "3.10.16"
    }
  },
  "nbformat": 4,
  "nbformat_minor": 5
}
